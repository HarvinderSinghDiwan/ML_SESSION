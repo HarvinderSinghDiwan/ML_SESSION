{
  "nbformat": 4,
  "nbformat_minor": 0,
  "metadata": {
    "colab": {
      "name": "Untitled1.ipynb",
      "provenance": [],
      "authorship_tag": "ABX9TyOMc7tJs0k9QJ8xtDSWktWS",
      "include_colab_link": true
    },
    "kernelspec": {
      "name": "python3",
      "display_name": "Python 3"
    },
    "accelerator": "TPU"
  },
  "cells": [
    {
      "cell_type": "markdown",
      "metadata": {
        "id": "view-in-github",
        "colab_type": "text"
      },
      "source": [
        "<a href=\"https://colab.research.google.com/github/HarvinderSinghDiwan/ML_SESSION/blob/master/FIND-S%2CLINEAR_REGRESSION%2CCANDIDATE-ELIMINATION.ipynb\" target=\"_parent\"><img src=\"https://colab.research.google.com/assets/colab-badge.svg\" alt=\"Open In Colab\"/></a>"
      ]
    },
    {
      "cell_type": "code",
      "metadata": {
        "id": "9VbXFqP7jSvu",
        "colab_type": "code",
        "colab": {}
      },
      "source": [
        "##########version=set of generalised specific hypothesis"
      ],
      "execution_count": 0,
      "outputs": []
    },
    {
      "cell_type": "code",
      "metadata": {
        "id": "X7n6-2O1mF7d",
        "colab_type": "code",
        "colab": {
          "base_uri": "https://localhost:8080/",
          "height": 210
        },
        "outputId": "feb12142-58eb-4845-c78d-46272e305ee9"
      },
      "source": [
        "!wget https://github.com/nikhillovestech/neural-Network-in-Numpy"
      ],
      "execution_count": 4,
      "outputs": [
        {
          "output_type": "stream",
          "text": [
            "--2020-02-05 04:29:27--  https://github.com/nikhillovestech/neural-Network-in-Numpy\n",
            "Resolving github.com (github.com)... 192.30.253.112\n",
            "Connecting to github.com (github.com)|192.30.253.112|:443... connected.\n",
            "HTTP request sent, awaiting response... 200 OK\n",
            "Length: unspecified [text/html]\n",
            "Saving to: ‘neural-Network-in-Numpy’\n",
            "\n",
            "\rneural-Network-in-N     [<=>                 ]       0  --.-KB/s               \rneural-Network-in-N     [ <=>                ]  72.50K  --.-KB/s    in 0.05s   \n",
            "\n",
            "2020-02-05 04:29:28 (1.40 MB/s) - ‘neural-Network-in-Numpy’ saved [74241]\n",
            "\n"
          ],
          "name": "stdout"
        }
      ]
    },
    {
      "cell_type": "code",
      "metadata": {
        "id": "wBBvlch-nPqE",
        "colab_type": "code",
        "colab": {}
      },
      "source": [
        ""
      ],
      "execution_count": 0,
      "outputs": []
    },
    {
      "cell_type": "code",
      "metadata": {
        "colab_type": "code",
        "outputId": "6bd28076-ea67-4d1b-b16a-1914377aeb86",
        "id": "gQpLoqJ5o71Z",
        "colab": {
          "base_uri": "https://localhost:8080/",
          "height": 846
        }
      },
      "source": [
        "########## CANDIDATE ALGORITHM\n",
        "import numpy as np \n",
        "import pandas as pd \n",
        "data = pd.DataFrame(data=pd.read_csv('trainingexamples.csv')) \n",
        "concepts = np.array(data.iloc[:,0:-1])\n",
        "print(concepts) \n",
        "target = np.array(data.iloc[:,-1])  \n",
        "print(target)\n",
        "def learn(concepts, target): \n",
        "    specific_h = concepts[0].copy()     \n",
        "    print(\"initialization of specific_h and general_h\")     \n",
        "    print(specific_h)  \n",
        "    general_h = [[\"?\" for i in range(len(specific_h))] for i in range(len(specific_h))]     \n",
        "    print(general_h)  \n",
        "    for i, h in enumerate(concepts): \n",
        "        if target[i] == \"Y\": \n",
        "            for x in range(len(specific_h)): \n",
        "                if h[x]!= specific_h[x]:                    \n",
        "                    specific_h[x] ='?'                     \n",
        "                    general_h[x][x] ='?'\n",
        "                print(specific_h)\n",
        "        print(specific_h)\n",
        "        if target[i] == \"N\":            \n",
        "            for x in range(len(specific_h)): \n",
        "                if h[x]!= specific_h[x]:                    \n",
        "                    general_h[x][x] = specific_h[x]                \n",
        "                else:                    \n",
        "                    general_h[x][x] = '?'        \n",
        "        print(\" steps of Candidate Elimination Algorithm\",i+1)        \n",
        "        print(specific_h)         \n",
        "        print(general_h)  \n",
        "    indices = [i for i, val in enumerate(general_h) if val == ['?', '?', '?', '?', '?', '?']]    \n",
        "    for i in indices:   \n",
        "        general_h.remove(['?', '?', '?', '?', '?', '?']) \n",
        "    return specific_h, general_h \n",
        "s_final, g_final = learn(concepts, target)\n",
        "print(\"Final Specific_h:\", s_final, sep=\"\\n\")\n",
        "print(\"Final General_h:\", g_final, sep=\"\\n\") \n",
        "#data.head()  \n"
      ],
      "execution_count": 9,
      "outputs": [
        {
          "output_type": "stream",
          "text": [
            "[['Sunny' 'Warm' 'Normal' 'Strong' 'Warm' 'Same']\n",
            " ['Sunny' 'Warm' 'High' 'Strong' 'Warm' 'Same']\n",
            " ['Rainy' 'Cold' 'High' 'Strong' 'Warm' 'Change']\n",
            " ['Sunny' 'Warm' 'High' 'Strong' 'Cool' 'Change']]\n",
            "['Y' 'Y' 'N' 'Y']\n",
            "initialization of specific_h and general_h\n",
            "['Sunny' 'Warm' 'Normal' 'Strong' 'Warm' 'Same']\n",
            "[['?', '?', '?', '?', '?', '?'], ['?', '?', '?', '?', '?', '?'], ['?', '?', '?', '?', '?', '?'], ['?', '?', '?', '?', '?', '?'], ['?', '?', '?', '?', '?', '?'], ['?', '?', '?', '?', '?', '?']]\n",
            "['Sunny' 'Warm' 'Normal' 'Strong' 'Warm' 'Same']\n",
            "['Sunny' 'Warm' 'Normal' 'Strong' 'Warm' 'Same']\n",
            "['Sunny' 'Warm' 'Normal' 'Strong' 'Warm' 'Same']\n",
            "['Sunny' 'Warm' 'Normal' 'Strong' 'Warm' 'Same']\n",
            "['Sunny' 'Warm' 'Normal' 'Strong' 'Warm' 'Same']\n",
            "['Sunny' 'Warm' 'Normal' 'Strong' 'Warm' 'Same']\n",
            "['Sunny' 'Warm' 'Normal' 'Strong' 'Warm' 'Same']\n",
            " steps of Candidate Elimination Algorithm 1\n",
            "['Sunny' 'Warm' 'Normal' 'Strong' 'Warm' 'Same']\n",
            "[['?', '?', '?', '?', '?', '?'], ['?', '?', '?', '?', '?', '?'], ['?', '?', '?', '?', '?', '?'], ['?', '?', '?', '?', '?', '?'], ['?', '?', '?', '?', '?', '?'], ['?', '?', '?', '?', '?', '?']]\n",
            "['Sunny' 'Warm' 'Normal' 'Strong' 'Warm' 'Same']\n",
            "['Sunny' 'Warm' 'Normal' 'Strong' 'Warm' 'Same']\n",
            "['Sunny' 'Warm' '?' 'Strong' 'Warm' 'Same']\n",
            "['Sunny' 'Warm' '?' 'Strong' 'Warm' 'Same']\n",
            "['Sunny' 'Warm' '?' 'Strong' 'Warm' 'Same']\n",
            "['Sunny' 'Warm' '?' 'Strong' 'Warm' 'Same']\n",
            "['Sunny' 'Warm' '?' 'Strong' 'Warm' 'Same']\n",
            " steps of Candidate Elimination Algorithm 2\n",
            "['Sunny' 'Warm' '?' 'Strong' 'Warm' 'Same']\n",
            "[['?', '?', '?', '?', '?', '?'], ['?', '?', '?', '?', '?', '?'], ['?', '?', '?', '?', '?', '?'], ['?', '?', '?', '?', '?', '?'], ['?', '?', '?', '?', '?', '?'], ['?', '?', '?', '?', '?', '?']]\n",
            "['Sunny' 'Warm' '?' 'Strong' 'Warm' 'Same']\n",
            " steps of Candidate Elimination Algorithm 3\n",
            "['Sunny' 'Warm' '?' 'Strong' 'Warm' 'Same']\n",
            "[['Sunny', '?', '?', '?', '?', '?'], ['?', 'Warm', '?', '?', '?', '?'], ['?', '?', '?', '?', '?', '?'], ['?', '?', '?', '?', '?', '?'], ['?', '?', '?', '?', '?', '?'], ['?', '?', '?', '?', '?', 'Same']]\n",
            "['Sunny' 'Warm' '?' 'Strong' 'Warm' 'Same']\n",
            "['Sunny' 'Warm' '?' 'Strong' 'Warm' 'Same']\n",
            "['Sunny' 'Warm' '?' 'Strong' 'Warm' 'Same']\n",
            "['Sunny' 'Warm' '?' 'Strong' 'Warm' 'Same']\n",
            "['Sunny' 'Warm' '?' 'Strong' '?' 'Same']\n",
            "['Sunny' 'Warm' '?' 'Strong' '?' '?']\n",
            "['Sunny' 'Warm' '?' 'Strong' '?' '?']\n",
            " steps of Candidate Elimination Algorithm 4\n",
            "['Sunny' 'Warm' '?' 'Strong' '?' '?']\n",
            "[['Sunny', '?', '?', '?', '?', '?'], ['?', 'Warm', '?', '?', '?', '?'], ['?', '?', '?', '?', '?', '?'], ['?', '?', '?', '?', '?', '?'], ['?', '?', '?', '?', '?', '?'], ['?', '?', '?', '?', '?', '?']]\n",
            "Final Specific_h:\n",
            "['Sunny' 'Warm' '?' 'Strong' '?' '?']\n",
            "Final General_h:\n",
            "[['Sunny', '?', '?', '?', '?', '?'], ['?', 'Warm', '?', '?', '?', '?']]\n"
          ],
          "name": "stdout"
        }
      ]
    },
    {
      "cell_type": "code",
      "metadata": {
        "id": "S23FB0qJnWvA",
        "colab_type": "code",
        "colab": {
          "base_uri": "https://localhost:8080/",
          "height": 422
        },
        "outputId": "6c54ec95-7b53-4390-f0c7-227eb3bcfe62"
      },
      "source": [
        "##### FIND-S\n",
        "import csv \n",
        "#!usr/bin/python #list creatin \n",
        "hypo=['%','%','%','%','%','%'] \n",
        "with open('Training_examples.csv') as csv_file:  \n",
        "    readcsv = csv.reader(csv_file, delimiter=',')  \n",
        "    print(readcsv)  \n",
        "    data=[]  \n",
        "    print(\"\\nThe given training examples are:\")  \n",
        "    for row in readcsv:     \n",
        "        print(row)  \n",
        "        if row[len(row)-1] =='Yes':    \n",
        "            data.append(row)    \n",
        "print(\"\\nThe positive examples are:\")\n",
        "for x in data:  \n",
        "    print(x) \n",
        "print(\"\\n\") \n",
        "TotalExamples=len(data) \n",
        "i=0 \n",
        "j=0\n",
        "k=0 \n",
        "print(\"The steps of the Find-s algorithm are\\n\",hypo) \n",
        "list =[]\n",
        "p=0\n",
        "d=len(data[p])-1\n",
        "for j in range(d):  \n",
        "    list.append(data[i][j])\n",
        "hypo=list\n",
        "for i in range(1,TotalExamples):   \n",
        "    for k in range(d): \n",
        "        if hypo[k]!=data[i][k]: \n",
        "            hypo[k]='?'\n",
        "        else:    \n",
        "            hypo[k] \n",
        "    print(hypo)\n",
        "    print(\"---------------------------------\")\n",
        "print(\"\\nThe maximally specific Find-s hypothesis for the given training examples is\");\n",
        "list=[]\n",
        "for i in range(d):  \n",
        "    list.append(hypo[i])\n",
        "print(list)  "
      ],
      "execution_count": 11,
      "outputs": [
        {
          "output_type": "stream",
          "text": [
            "<_csv.reader object at 0x7f1ed6789b38>\n",
            "\n",
            "The given training examples are:\n",
            "['Sunny', 'Warm', 'Normal', 'Strong', 'Warm', 'Same', 'Yes']\n",
            "['Sunny', 'Warm', 'High', 'Strong', 'Warm', 'Same', 'Yes']\n",
            "['Rainy', 'Cold', 'High', 'Strong', 'Warm', 'Change', 'No']\n",
            "['Sunny', 'Warm', 'High', 'Strong', 'Cool', 'Change', 'Yes']\n",
            "\n",
            "The positive examples are:\n",
            "['Sunny', 'Warm', 'Normal', 'Strong', 'Warm', 'Same', 'Yes']\n",
            "['Sunny', 'Warm', 'High', 'Strong', 'Warm', 'Same', 'Yes']\n",
            "['Sunny', 'Warm', 'High', 'Strong', 'Cool', 'Change', 'Yes']\n",
            "\n",
            "\n",
            "The steps of the Find-s algorithm are\n",
            " ['%', '%', '%', '%', '%', '%']\n",
            "['Sunny', 'Warm', '?', 'Strong', 'Warm', 'Same']\n",
            "---------------------------------\n",
            "['Sunny', 'Warm', '?', 'Strong', '?', '?']\n",
            "---------------------------------\n",
            "\n",
            "The maximally specific Find-s hypothesis for the given training examples is\n",
            "['Sunny', 'Warm', '?', 'Strong', '?', '?']\n"
          ],
          "name": "stdout"
        }
      ]
    },
    {
      "cell_type": "code",
      "metadata": {
        "id": "rSfb15B6pWsN",
        "colab_type": "code",
        "colab": {}
      },
      "source": [
        "####### LINEAR REGRESSION\n",
        "import matplotlib.pyplot as plt\n",
        "import numpy as np\n",
        "from sklearn import datasets,linear_model,metrics"
      ],
      "execution_count": 0,
      "outputs": []
    },
    {
      "cell_type": "code",
      "metadata": {
        "id": "EeIzzCikqet2",
        "colab_type": "code",
        "colab": {}
      },
      "source": [
        "###load boston dataset\n",
        "boston=datasets.load_boston(return_X_y=False)\n",
        "###define feature matrix X and response vector y\n",
        "X=boston.data\n",
        "y=boston.target"
      ],
      "execution_count": 0,
      "outputs": []
    },
    {
      "cell_type": "code",
      "metadata": {
        "id": "7HyhqJXItbZE",
        "colab_type": "code",
        "colab": {}
      },
      "source": [
        "from sklearn.model_selection import train_test_split\n",
        "x_train,x_test,y_train,y_test=train_test_split(X,y,test_size=.40,random_state=1)"
      ],
      "execution_count": 0,
      "outputs": []
    },
    {
      "cell_type": "code",
      "metadata": {
        "id": "yPWfd81Etuxi",
        "colab_type": "code",
        "colab": {
          "base_uri": "https://localhost:8080/",
          "height": 122
        },
        "outputId": "15d3a913-87e9-461a-fd7d-223aefd0e489"
      },
      "source": [
        "reg=linear_model.LinearRegression()\n",
        "reg.fit(x_train,y_train)\n",
        "print(\"coefficients: \\n\",reg.coef_)\n",
        "print(\"Variance score: {}\".format(reg.score(x_test,y_test)))"
      ],
      "execution_count": 35,
      "outputs": [
        {
          "output_type": "stream",
          "text": [
            "coefficients: \n",
            " [-8.95714048e-02  6.73132853e-02  5.04649248e-02  2.18579583e+00\n",
            " -1.72053975e+01  3.63606995e+00  2.05579939e-03 -1.36602886e+00\n",
            "  2.89576718e-01 -1.22700072e-02 -8.34881849e-01  9.40360790e-03\n",
            " -5.04008320e-01]\n",
            "Variance score: 0.7209056672661777\n"
          ],
          "name": "stdout"
        }
      ]
    },
    {
      "cell_type": "code",
      "metadata": {
        "id": "9qGaEHM6un95",
        "colab_type": "code",
        "colab": {}
      },
      "source": [
        "plt.style.use(\"fivethirtyeight\")"
      ],
      "execution_count": 0,
      "outputs": []
    },
    {
      "cell_type": "code",
      "metadata": {
        "id": "uMMqCDCBwNvr",
        "colab_type": "code",
        "colab": {
          "base_uri": "https://localhost:8080/",
          "height": 300
        },
        "outputId": "ab8cce9b-70a0-4568-a217-04b38f7634c3"
      },
      "source": [
        "# plotting residual errors in train data\n",
        "plt.scatter(reg.predict(x_train),reg.predict(x_train)-y_train,color=\"purple\",s=10,label='Train data')"
      ],
      "execution_count": 39,
      "outputs": [
        {
          "output_type": "execute_result",
          "data": {
            "text/plain": [
              "<matplotlib.collections.PathCollection at 0x7f1ec5e09f98>"
            ]
          },
          "metadata": {
            "tags": []
          },
          "execution_count": 39
        },
        {
          "output_type": "display_data",
          "data": {
            "image/png": "[encoded data removed]",
            "text/plain": [
              "<Figure size 432x288 with 1 Axes>"
            ]
          },
          "metadata": {
            "tags": []
          }
        }
      ]
    },
    {
      "cell_type": "code",
      "metadata": {
        "id": "56DKbrI8wi3a",
        "colab_type": "code",
        "colab": {
          "base_uri": "https://localhost:8080/",
          "height": 300
        },
        "outputId": "3b7fb64b-dca3-4072-a6ec-a1a1081d07c2"
      },
      "source": [
        "# plotting residual errors in test data\n",
        "plt.scatter(reg.predict(x_test),reg.predict(x_test)-y_test,color=\"blue\",s=10,label=\"Test data\")"
      ],
      "execution_count": 40,
      "outputs": [
        {
          "output_type": "execute_result",
          "data": {
            "text/plain": [
              "<matplotlib.collections.PathCollection at 0x7f1ec5d6fd68>"
            ]
          },
          "metadata": {
            "tags": []
          },
          "execution_count": 40
        },
        {
          "output_type": "display_data",
          "data": {
            "image/png": "[encoded data removed]",
            "text/plain": [
              "<Figure size 432x288 with 1 Axes>"
            ]
          },
          "metadata": {
            "tags": []
          }
        }
      ]
    },
    {
      "cell_type": "code",
      "metadata": {
        "id": "TOj5LIJuxF8h",
        "colab_type": "code",
        "colab": {
          "base_uri": "https://localhost:8080/",
          "height": 300
        },
        "outputId": "fc5cf977-7369-4810-d1a4-5bd7ca6459d5"
      },
      "source": [
        "#### plotting line for zero residual errors\n",
        "plt.hlines(y=0,xmin=0,xmax=50,linewidth=2)"
      ],
      "execution_count": 41,
      "outputs": [
        {
          "output_type": "execute_result",
          "data": {
            "text/plain": [
              "<matplotlib.collections.LineCollection at 0x7f1ec5d7e198>"
            ]
          },
          "metadata": {
            "tags": []
          },
          "execution_count": 41
        },
        {
          "output_type": "display_data",
          "data": {
            "image/png": "[encoded data removed]",
            "text/plain": [
              "<Figure size 432x288 with 1 Axes>"
            ]
          },
          "metadata": {
            "tags": []
          }
        }
      ]
    },
    {
      "cell_type": "code",
      "metadata": {
        "id": "cTMyFqYyxUb6",
        "colab_type": "code",
        "colab": {
          "base_uri": "https://localhost:8080/",
          "height": 322
        },
        "outputId": "4665d983-9e0c-47ed-e1e7-439376d97a02"
      },
      "source": [
        "plt.legend(loc=\"upper right\")"
      ],
      "execution_count": 42,
      "outputs": [
        {
          "output_type": "stream",
          "text": [
            "No handles with labels found to put in legend.\n"
          ],
          "name": "stderr"
        },
        {
          "output_type": "execute_result",
          "data": {
            "text/plain": [
              "<matplotlib.legend.Legend at 0x7f1ec5ca88d0>"
            ]
          },
          "metadata": {
            "tags": []
          },
          "execution_count": 42
        },
        {
          "output_type": "display_data",
          "data": {
            "image/png": "[encoded data removed]",
            "text/plain": [
              "<Figure size 432x288 with 1 Axes>"
            ]
          },
          "metadata": {
            "tags": []
          }
        }
      ]
    },
    {
      "cell_type": "code",
      "metadata": {
        "id": "gWWIH2eXxb9X",
        "colab_type": "code",
        "colab": {
          "base_uri": "https://localhost:8080/",
          "height": 321
        },
        "outputId": "f34c0e01-b4b7-4f32-97f8-fb8db89686e1"
      },
      "source": [
        "plt.title(\"Residual errors\")"
      ],
      "execution_count": 43,
      "outputs": [
        {
          "output_type": "execute_result",
          "data": {
            "text/plain": [
              "Text(0.5, 1.0, 'Residual errors')"
            ]
          },
          "metadata": {
            "tags": []
          },
          "execution_count": 43
        },
        {
          "output_type": "display_data",
          "data": {
            "image/png": "[encoded data removed]",
            "text/plain": [
              "<Figure size 432x288 with 1 Axes>"
            ]
          },
          "metadata": {
            "tags": []
          }
        }
      ]
    },
    {
      "cell_type": "code",
      "metadata": {
        "id": "T5kYR1G4xe26",
        "colab_type": "code",
        "colab": {}
      },
      "source": [
        "##### FUNCTION TO SHOW PLOT\n",
        "plt.show()"
      ],
      "execution_count": 0,
      "outputs": []
    },
    {
      "cell_type": "code",
      "metadata": {
        "id": "9-KyJprsxh45",
        "colab_type": "code",
        "colab": {}
      },
      "source": [
        ""
      ],
      "execution_count": 0,
      "outputs": []
    }
  ]
}